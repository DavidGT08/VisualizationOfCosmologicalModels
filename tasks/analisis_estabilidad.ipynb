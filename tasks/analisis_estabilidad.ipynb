{
 "cells": [
  {
   "cell_type": "markdown",
   "metadata": {},
   "source": [
    "# Analisis de estabilidad"
   ]
  },
  {
   "cell_type": "markdown",
   "metadata": {},
   "source": [
    "Ecuaciones del sistema"
   ]
  },
  {
   "cell_type": "markdown",
   "metadata": {},
   "source": [
    "---\n",
    "$x=\\dfrac{\\kappa^2 \\rho_{de}}{3H^2}$,   $y=\\dfrac{\\kappa^2 \\rho_{dm}}{3H^2}$,  $\\Omega_r=\\dfrac{\\kappa^2 \\rho_{r}}{3H^2}$, $z=\\dfrac{\\kappa^2 Q}{3H^3}$"
   ]
  },
  {
   "cell_type": "markdown",
   "metadata": {},
   "source": [
    "$x' =3(x-1)x\\gamma_{de}-3\\xi_0 xy^{1/2}-x(4x+y-4)-z(x,y)$"
   ]
  },
  {
   "cell_type": "markdown",
   "metadata": {},
   "source": [
    "$y' =3\\gamma_{de}xy-y(4x+y-1)-3\\xi_0(y-1)y^{1/2}+z(x,y)$\n",
    "\n",
    "---"
   ]
  },
  {
   "cell_type": "code",
   "execution_count": 1,
   "metadata": {},
   "outputs": [],
   "source": [
    "import sympy as sp\n",
    "from sympy import Matrix"
   ]
  },
  {
   "cell_type": "markdown",
   "metadata": {},
   "source": [
    "---\n",
    "Cálculo de los puntos de criticos\n",
    "\n",
    "---"
   ]
  },
  {
   "cell_type": "code",
   "execution_count": 41,
   "metadata": {},
   "outputs": [],
   "source": [
    "x = sp.Symbol('x')\n",
    "y = sp.Symbol('y')\n",
    "xi = sp.Symbol('\\\\xi_0')\n",
    "gamma = sp.Symbol('\\\\gamma_{de}')\n",
    "z = sp.Symbol('z')"
   ]
  },
  {
   "cell_type": "code",
   "execution_count": 42,
   "metadata": {},
   "outputs": [],
   "source": [
    "def x_prime(x,y):\n",
    "    return 3*(x-1)*x*gamma-3*xi*x*y**1/2-x*(4*x+y-4)-z "
   ]
  },
  {
   "cell_type": "code",
   "execution_count": 6,
   "metadata": {},
   "outputs": [],
   "source": [
    "def y_prime(x,y):\n",
    "    return 3*gamma*x*y-y*(4*x+y-1)-3*xi*(y-1)*y**(1/2)+z3*gamma*x*y-y*(4*x+y-1)-3*xi*(y-1)*y**(1/2)+z"
   ]
  },
  {
   "cell_type": "markdown",
   "metadata": {},
   "source": [
    "* $P_1(0,0)$"
   ]
  },
  {
   "cell_type": "code",
   "execution_count": 33,
   "metadata": {},
   "outputs": [
    {
     "data": {
      "text/latex": [
       "$\\displaystyle 0$"
      ],
      "text/plain": [
       "0"
      ]
     },
     "execution_count": 33,
     "metadata": {},
     "output_type": "execute_result"
    }
   ],
   "source": [
    "x_point = 3*(x-1)*x*gamma-3*xi*x*y**1/2-x*(4*x+y-4)-z\n",
    "x_point.subs([(x,0), (y,0), (z,0)])"
   ]
  },
  {
   "cell_type": "code",
   "execution_count": 34,
   "metadata": {},
   "outputs": [
    {
     "data": {
      "text/latex": [
       "$\\displaystyle 0$"
      ],
      "text/plain": [
       "0"
      ]
     },
     "execution_count": 34,
     "metadata": {},
     "output_type": "execute_result"
    }
   ],
   "source": [
    "y_point = 3*gamma*x*y-y*(4*x+y-1)-3*xi*(y-1)*y**(1/2)+z\n",
    "y_point.subs([(x,0), (y,0), (z,0)])"
   ]
  },
  {
   "cell_type": "markdown",
   "metadata": {},
   "source": [
    "* $P_1(0,1)$"
   ]
  },
  {
   "cell_type": "code",
   "execution_count": 24,
   "metadata": {},
   "outputs": [
    {
     "data": {
      "text/latex": [
       "$\\displaystyle 0$"
      ],
      "text/plain": [
       "0"
      ]
     },
     "execution_count": 24,
     "metadata": {},
     "output_type": "execute_result"
    }
   ],
   "source": [
    "x_point.subs([(x,0), (y,1), (z,0)])"
   ]
  },
  {
   "cell_type": "code",
   "execution_count": 26,
   "metadata": {},
   "outputs": [
    {
     "data": {
      "text/latex": [
       "$\\displaystyle 0$"
      ],
      "text/plain": [
       "0"
      ]
     },
     "execution_count": 26,
     "metadata": {},
     "output_type": "execute_result"
    }
   ],
   "source": [
    "y_point.subs([(x,0), (y,1), (z,0)])"
   ]
  },
  {
   "cell_type": "markdown",
   "metadata": {},
   "source": [
    "* $P_2(1,0)$"
   ]
  },
  {
   "cell_type": "code",
   "execution_count": 39,
   "metadata": {},
   "outputs": [
    {
     "data": {
      "text/latex": [
       "$\\displaystyle - \\frac{3 \\xi_{0}}{2} - 1$"
      ],
      "text/plain": [
       "-3*\\xi_0/2 - 1"
      ]
     },
     "execution_count": 39,
     "metadata": {},
     "output_type": "execute_result"
    }
   ],
   "source": [
    "x_point.subs([(x,1), (y,1), (z,0)])"
   ]
  },
  {
   "cell_type": "code",
   "execution_count": 37,
   "metadata": {},
   "outputs": [
    {
     "data": {
      "text/latex": [
       "$\\displaystyle 0$"
      ],
      "text/plain": [
       "0"
      ]
     },
     "execution_count": 37,
     "metadata": {},
     "output_type": "execute_result"
    }
   ],
   "source": [
    "y_point.subs([(x,1), (y,0), (z,0)])"
   ]
  },
  {
   "cell_type": "markdown",
   "metadata": {},
   "source": [
    "---\n",
    "### Jacobiano del sistema\n",
    "\n",
    "---"
   ]
  },
  {
   "cell_type": "markdown",
   "metadata": {},
   "source": [
    " Derivadas parciales para construir el Jaconiano"
   ]
  },
  {
   "cell_type": "code",
   "execution_count": 52,
   "metadata": {},
   "outputs": [
    {
     "data": {
      "text/latex": [
       "$\\displaystyle 3 \\gamma_{de} x + \\gamma_{de} \\left(3 x - 3\\right) - \\frac{3 \\xi_{0} y}{2} - 8 x - y + 4$"
      ],
      "text/plain": [
       "3*\\gamma_{de}*x + \\gamma_{de}*(3*x - 3) - 3*\\xi_0*y/2 - 8*x - y + 4"
      ]
     },
     "execution_count": 52,
     "metadata": {},
     "output_type": "execute_result"
    }
   ],
   "source": [
    "Jxx = sp.diff(x_point,x)\n",
    "Jxx"
   ]
  },
  {
   "cell_type": "code",
   "execution_count": 53,
   "metadata": {},
   "outputs": [
    {
     "data": {
      "text/latex": [
       "$\\displaystyle - \\frac{3 \\xi_{0} x}{2} - x$"
      ],
      "text/plain": [
       "-3*\\xi_0*x/2 - x"
      ]
     },
     "execution_count": 53,
     "metadata": {},
     "output_type": "execute_result"
    }
   ],
   "source": [
    "Jxy = sp.diff(x_point,y)\n",
    "Jxy"
   ]
  },
  {
   "cell_type": "code",
   "execution_count": 60,
   "metadata": {},
   "outputs": [
    {
     "data": {
      "text/latex": [
       "$\\displaystyle 3 \\gamma_{de} y - 4 y$"
      ],
      "text/plain": [
       "3*\\gamma_{de}*y - 4*y"
      ]
     },
     "execution_count": 60,
     "metadata": {},
     "output_type": "execute_result"
    }
   ],
   "source": [
    "Jyx = sp.diff(y_point,x)\n",
    "Jyx"
   ]
  },
  {
   "cell_type": "code",
   "execution_count": 57,
   "metadata": {},
   "outputs": [
    {
     "data": {
      "text/latex": [
       "$\\displaystyle 3 \\gamma_{de} x - \\frac{1.5 \\xi_{0} \\left(y - 1\\right)}{y^{0.5}} - 3 \\xi_{0} y^{0.5} - 4 x - 2 y + 1$"
      ],
      "text/plain": [
       "3*\\gamma_{de}*x - 1.5*\\xi_0*(y - 1)/y**0.5 - 3*\\xi_0*y**0.5 - 4*x - 2*y + 1"
      ]
     },
     "execution_count": 57,
     "metadata": {},
     "output_type": "execute_result"
    }
   ],
   "source": [
    "Jyy = sp.diff(y_point,y)\n",
    "Jyy"
   ]
  },
  {
   "cell_type": "markdown",
   "metadata": {},
   "source": [
    "---\n",
    "Matriz Jacobiano, J=\n",
    "$\\begin{pmatrix}\n",
    "J_{xx} & J_{xy}\\\\\n",
    "J_{yx} & J_{yy}\n",
    "\\end{pmatrix}$\n",
    "\n",
    "---"
   ]
  },
  {
   "cell_type": "code",
   "execution_count": 61,
   "metadata": {},
   "outputs": [
    {
     "data": {
      "text/latex": [
       "$\\displaystyle \\left[\\begin{matrix}3 \\gamma_{de} x + \\gamma_{de} \\left(3 x - 3\\right) - \\frac{3 \\xi_{0} y}{2} - 8 x - y + 4 & - \\frac{3 \\xi_{0} x}{2} - x\\\\3 \\gamma_{de} y - 4 y & 3 \\gamma_{de} x - \\frac{1.5 \\xi_{0} \\left(y - 1\\right)}{y^{0.5}} - 3 \\xi_{0} y^{0.5} - 4 x - 2 y + 1\\end{matrix}\\right]$"
      ],
      "text/plain": [
       "Matrix([\n",
       "[3*\\gamma_{de}*x + \\gamma_{de}*(3*x - 3) - 3*\\xi_0*y/2 - 8*x - y + 4,                                                            -3*\\xi_0*x/2 - x],\n",
       "[                                              3*\\gamma_{de}*y - 4*y, 3*\\gamma_{de}*x - 1.5*\\xi_0*(y - 1)/y**0.5 - 3*\\xi_0*y**0.5 - 4*x - 2*y + 1]])"
      ]
     },
     "execution_count": 61,
     "metadata": {},
     "output_type": "execute_result"
    }
   ],
   "source": [
    "j = Matrix([[Jxx, Jxy],[Jyx, Jyy]])\n",
    "j"
   ]
  },
  {
   "cell_type": "code",
   "execution_count": 66,
   "metadata": {},
   "outputs": [
    {
     "data": {
      "text/latex": [
       "$\\displaystyle \\left[\\begin{matrix}4 - 3 \\gamma_{de} & 0\\\\0 & \\tilde{\\infty} \\xi_{0} + 1\\end{matrix}\\right]$"
      ],
      "text/plain": [
       "Matrix([\n",
       "[4 - 3*\\gamma_{de},             0],\n",
       "[                0, zoo*\\xi_0 + 1]])"
      ]
     },
     "execution_count": 66,
     "metadata": {},
     "output_type": "execute_result"
    }
   ],
   "source": [
    "F_00 = j.subs([(x,0), (y,0)])\n",
    "F_00"
   ]
  },
  {
   "cell_type": "code",
   "execution_count": 67,
   "metadata": {},
   "outputs": [
    {
     "data": {
      "text/latex": [
       "$\\displaystyle \\left[\\begin{matrix}3 \\gamma_{de} - 4 & - \\frac{3 \\xi_{0}}{2} - 1\\\\0 & 3 \\gamma_{de} + \\tilde{\\infty} \\xi_{0} - 3\\end{matrix}\\right]$"
      ],
      "text/plain": [
       "Matrix([\n",
       "[3*\\gamma_{de} - 4,                -3*\\xi_0/2 - 1],\n",
       "[                0, 3*\\gamma_{de} + zoo*\\xi_0 - 3]])"
      ]
     },
     "execution_count": 67,
     "metadata": {},
     "output_type": "execute_result"
    }
   ],
   "source": [
    "F_10 = j.subs([(x,1), (y,0)])\n",
    "F_10"
   ]
  },
  {
   "cell_type": "code",
   "execution_count": 68,
   "metadata": {},
   "outputs": [
    {
     "data": {
      "text/latex": [
       "$\\displaystyle \\left[\\begin{matrix}- 3 \\gamma_{de} - \\frac{3 \\xi_{0}}{2} + 3 & 0\\\\3 \\gamma_{de} - 4 & - 3 \\xi_{0} - 1\\end{matrix}\\right]$"
      ],
      "text/plain": [
       "Matrix([\n",
       "[-3*\\gamma_{de} - 3*\\xi_0/2 + 3,            0],\n",
       "[             3*\\gamma_{de} - 4, -3*\\xi_0 - 1]])"
      ]
     },
     "execution_count": 68,
     "metadata": {},
     "output_type": "execute_result"
    }
   ],
   "source": [
    "F_01 = j.subs([(x,0), (y,1)])\n",
    "F_01"
   ]
  }
 ],
 "metadata": {
  "kernelspec": {
   "display_name": "Python 3 (ipykernel)",
   "language": "python",
   "name": "python3"
  },
  "language_info": {
   "codemirror_mode": {
    "name": "ipython",
    "version": 3
   },
   "file_extension": ".py",
   "mimetype": "text/x-python",
   "name": "python",
   "nbconvert_exporter": "python",
   "pygments_lexer": "ipython3",
   "version": "3.11.0"
  }
 },
 "nbformat": 4,
 "nbformat_minor": 2
}
